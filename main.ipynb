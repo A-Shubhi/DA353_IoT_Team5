{
 "cells": [
  {
   "cell_type": "code",
   "execution_count": 9,
   "id": "d4171798-70b3-4c8f-867b-21cd68169445",
   "metadata": {},
   "outputs": [],
   "source": [
    "import torch\n",
    "import torch.nn as nn\n",
    "import torch.optim as optim\n",
    "from torchvision import models\n",
    "from PIL import Image\n",
    "import numpy as np\n",
    "import pandas as pd\n",
    "from PIL import Image\n",
    "import torch.nn.functional as F\n",
    "from torchvision import transforms\n",
    "import io\n",
    "from flask import Flask, render_template, request, Markup\n",
    "from model import ResNet9\n",
    "from disease import disease_dic\n",
    "from fertilizer import fertilizer_dic"
   ]
  },
  {
   "cell_type": "code",
   "execution_count": 10,
   "id": "31129e5f-040c-489e-84cd-f8183523a494",
   "metadata": {},
   "outputs": [
    {
     "data": {
      "text/plain": [
       "ResNet9(\n",
       "  (conv1): Sequential(\n",
       "    (0): Conv2d(3, 64, kernel_size=(3, 3), stride=(1, 1), padding=(1, 1))\n",
       "    (1): BatchNorm2d(64, eps=1e-05, momentum=0.1, affine=True, track_running_stats=True)\n",
       "    (2): ReLU(inplace=True)\n",
       "  )\n",
       "  (conv2): Sequential(\n",
       "    (0): Conv2d(64, 128, kernel_size=(3, 3), stride=(1, 1), padding=(1, 1))\n",
       "    (1): BatchNorm2d(128, eps=1e-05, momentum=0.1, affine=True, track_running_stats=True)\n",
       "    (2): ReLU(inplace=True)\n",
       "    (3): MaxPool2d(kernel_size=4, stride=4, padding=0, dilation=1, ceil_mode=False)\n",
       "  )\n",
       "  (res1): Sequential(\n",
       "    (0): Sequential(\n",
       "      (0): Conv2d(128, 128, kernel_size=(3, 3), stride=(1, 1), padding=(1, 1))\n",
       "      (1): BatchNorm2d(128, eps=1e-05, momentum=0.1, affine=True, track_running_stats=True)\n",
       "      (2): ReLU(inplace=True)\n",
       "    )\n",
       "    (1): Sequential(\n",
       "      (0): Conv2d(128, 128, kernel_size=(3, 3), stride=(1, 1), padding=(1, 1))\n",
       "      (1): BatchNorm2d(128, eps=1e-05, momentum=0.1, affine=True, track_running_stats=True)\n",
       "      (2): ReLU(inplace=True)\n",
       "    )\n",
       "  )\n",
       "  (conv3): Sequential(\n",
       "    (0): Conv2d(128, 256, kernel_size=(3, 3), stride=(1, 1), padding=(1, 1))\n",
       "    (1): BatchNorm2d(256, eps=1e-05, momentum=0.1, affine=True, track_running_stats=True)\n",
       "    (2): ReLU(inplace=True)\n",
       "    (3): MaxPool2d(kernel_size=4, stride=4, padding=0, dilation=1, ceil_mode=False)\n",
       "  )\n",
       "  (conv4): Sequential(\n",
       "    (0): Conv2d(256, 512, kernel_size=(3, 3), stride=(1, 1), padding=(1, 1))\n",
       "    (1): BatchNorm2d(512, eps=1e-05, momentum=0.1, affine=True, track_running_stats=True)\n",
       "    (2): ReLU(inplace=True)\n",
       "    (3): MaxPool2d(kernel_size=4, stride=4, padding=0, dilation=1, ceil_mode=False)\n",
       "  )\n",
       "  (res2): Sequential(\n",
       "    (0): Sequential(\n",
       "      (0): Conv2d(512, 512, kernel_size=(3, 3), stride=(1, 1), padding=(1, 1))\n",
       "      (1): BatchNorm2d(512, eps=1e-05, momentum=0.1, affine=True, track_running_stats=True)\n",
       "      (2): ReLU(inplace=True)\n",
       "    )\n",
       "    (1): Sequential(\n",
       "      (0): Conv2d(512, 512, kernel_size=(3, 3), stride=(1, 1), padding=(1, 1))\n",
       "      (1): BatchNorm2d(512, eps=1e-05, momentum=0.1, affine=True, track_running_stats=True)\n",
       "      (2): ReLU(inplace=True)\n",
       "    )\n",
       "  )\n",
       "  (classifier): Sequential(\n",
       "    (0): MaxPool2d(kernel_size=4, stride=4, padding=0, dilation=1, ceil_mode=False)\n",
       "    (1): Flatten(start_dim=1, end_dim=-1)\n",
       "    (2): Linear(in_features=512, out_features=38, bias=True)\n",
       "  )\n",
       ")"
      ]
     },
     "execution_count": 10,
     "metadata": {},
     "output_type": "execute_result"
    }
   ],
   "source": [
    "disease_classes = ['Apple___Apple_scab',\n",
    "                   'Apple___Black_rot',\n",
    "                   'Apple___Cedar_apple_rust',\n",
    "                   'Apple___healthy',\n",
    "                   'Blueberry___healthy',\n",
    "                   'Cherry_(including_sour)___Powdery_mildew',\n",
    "                   'Cherry_(including_sour)___healthy',\n",
    "                   'Corn_(maize)___Cercospora_leaf_spot Gray_leaf_spot',\n",
    "                   'Corn_(maize)___Common_rust_',\n",
    "                   'Corn_(maize)___Northern_Leaf_Blight',\n",
    "                   'Corn_(maize)___healthy',\n",
    "                   'Grape___Black_rot',\n",
    "                   'Grape___Esca_(Black_Measles)',\n",
    "                   'Grape___Leaf_blight_(Isariopsis_Leaf_Spot)',\n",
    "                   'Grape___healthy',\n",
    "                   'Orange___Haunglongbing_(Citrus_greening)',\n",
    "                   'Peach___Bacterial_spot',\n",
    "                   'Peach___healthy',\n",
    "                   'Pepper,_bell___Bacterial_spot',\n",
    "                   'Pepper,_bell___healthy',\n",
    "                   'Potato___Early_blight',\n",
    "                   'Potato___Late_blight',\n",
    "                   'Potato___healthy',\n",
    "                   'Raspberry___healthy',\n",
    "                   'Soybean___healthy',\n",
    "                   'Squash___Powdery_mildew',\n",
    "                   'Strawberry___Leaf_scorch',\n",
    "                   'Strawberry___healthy',\n",
    "                   'Tomato___Bacterial_spot',\n",
    "                   'Tomato___Early_blight',\n",
    "                   'Tomato___Late_blight',\n",
    "                   'Tomato___Leaf_Mold',\n",
    "                   'Tomato___Septoria_leaf_spot',\n",
    "                   'Tomato___Spider_mites Two-spotted_spider_mite',\n",
    "                   'Tomato___Target_Spot',\n",
    "                   'Tomato___Tomato_Yellow_Leaf_Curl_Virus',\n",
    "                   'Tomato___Tomato_mosaic_virus',\n",
    "                   'Tomato___healthy']\n",
    "\n",
    "disease_model_path = 'plant_disease_model.pth'\n",
    "disease_model = ResNet9(3, len(disease_classes))\n",
    "disease_model.load_state_dict(torch.load(\n",
    "    disease_model_path, map_location=torch.device('cpu')))\n",
    "disease_model.eval()"
   ]
  },
  {
   "cell_type": "code",
   "execution_count": 11,
   "id": "825faf7c-4345-421b-91e9-a0dcd0c06083",
   "metadata": {},
   "outputs": [],
   "source": [
    "def predict_image(img, model=disease_model):\n",
    "    \"\"\"\n",
    "    Transforms image to tensor and predicts disease label\n",
    "    :params: image\n",
    "    :return: prediction (string)\n",
    "    \"\"\"\n",
    "    transform = transforms.Compose([\n",
    "        transforms.Resize(256),\n",
    "        transforms.ToTensor(),\n",
    "    ])\n",
    "    image = Image.open(img)\n",
    "    img_t = transform(image)\n",
    "    img_u = torch.unsqueeze(img_t, 0)\n",
    "\n",
    "    # Get predictions from model\n",
    "    yb = model(img_u)\n",
    "    # Pick index with highest probability\n",
    "    _, preds = torch.max(yb, dim=1)\n",
    "    prediction = disease_classes[preds[0].item()]\n",
    "    # Retrieve the class label\n",
    "    return prediction"
   ]
  },
  {
   "cell_type": "code",
   "execution_count": 12,
   "id": "dbd2e4d8-d6cc-4812-84ae-0d6807dda683",
   "metadata": {},
   "outputs": [],
   "source": [
    "img = \"output.JPG\"\n",
    "prediction = predict_image(img, disease_model)\n",
    "prediction = Markup(str(disease_dic[prediction]))"
   ]
  },
  {
   "cell_type": "code",
   "execution_count": 13,
   "id": "e14ea7b8-54e7-498d-900b-4edb5b998788",
   "metadata": {},
   "outputs": [
    {
     "name": "stdout",
     "output_type": "stream",
     "text": [
      " <b>Crop</b>: Grape <br/>Disease: Black Rot<br/>\n",
      "        <br/> Cause of disease:\n",
      "\n",
      "        <br/><br/> 1. The black rot fungus overwinters in canes, tendrils, and leaves on the grape vine and on the ground. Mummified berries on the ground or those that are still clinging to the vines become the major infection source the following spring.\n",
      "\n",
      "        <br/> 2. During rain, microscopic spores (ascospores) are shot out of numerous, black fruiting bodies (perithecia) and are carried by air currents to young, expanding leaves. In the presence of moisture, these spores germinate in 36 to 48 hours and eventually penetrate the leaves and fruit stems. \n",
      "\n",
      "        <br/> 3. The infection becomes visible after 8 to 25 days. When the weather is wet, spores can be released the entire spring and summer providing continuous infection.\n",
      "\n",
      "\n",
      "        <br/><br/> How to prevent/cure the disease <br/>\n",
      "        <br/>1. Space vines properly and choose a planting site where the vines will be exposed to full sun and good air circulation. Keep the vines off the ground and insure they are properly tied, limiting the amount of time the vines remain wet thus reducing infection.\n",
      "\n",
      "        <br/>2. Keep the fruit planting and surrounding areas free of weeds and tall grass. This practice will promote lower relative humidity and rapid drying of vines and thereby limit fungal infection.\n",
      "        \n",
      "        <br/>3. Use protective fungicide sprays. Pesticides registered to protect the developing new growth include copper, captan, ferbam, mancozeb, maneb, triadimefon, and ziram. Important spraying times are as new shoots are 2 to 4 inches long, and again when they are 10 to 15 inches long, just before bloom, just after bloom, and when the fruit has set.\n"
     ]
    }
   ],
   "source": [
    "print(prediction)"
   ]
  },
  {
   "cell_type": "code",
   "execution_count": 14,
   "id": "17220342-ff3b-4b05-8736-2795b4f3da6d",
   "metadata": {},
   "outputs": [],
   "source": [
    "def fert_recommend(crop_name, N, P, K):\n",
    "\n",
    "    df = pd.read_csv('fertilizer.csv')\n",
    "\n",
    "    nr = df[df['Crop'] == crop_name]['N'].iloc[0]\n",
    "    pr = df[df['Crop'] == crop_name]['P'].iloc[0]\n",
    "    kr = df[df['Crop'] == crop_name]['K'].iloc[0]\n",
    "\n",
    "    n = nr - N\n",
    "    p = pr - P\n",
    "    k = kr - K\n",
    "    temp = {abs(n): \"N\", abs(p): \"P\", abs(k): \"K\"}\n",
    "    max_value = temp[max(temp.keys())]\n",
    "    if max_value == \"N\":\n",
    "        if n < 0:\n",
    "            key = 'NHigh'\n",
    "        else:\n",
    "            key = \"Nlow\"\n",
    "    elif max_value == \"P\":\n",
    "        if p < 0:\n",
    "            key = 'PHigh'\n",
    "        else:\n",
    "            key = \"Plow\"\n",
    "    else:\n",
    "        if k < 0:\n",
    "            key = 'KHigh'\n",
    "        else:\n",
    "            key = \"Klow\"\n",
    "\n",
    "    response = Markup(str(fertilizer_dic[key]))\n",
    "\n",
    "    return response"
   ]
  },
  {
   "cell_type": "code",
   "execution_count": 15,
   "id": "cbdcafc2-2289-46bd-88f2-7357b29aa264",
   "metadata": {},
   "outputs": [
    {
     "name": "stdout",
     "output_type": "stream",
     "text": [
      "['rice', '30', '40', '50']\n"
     ]
    }
   ],
   "source": [
    "with open('data.txt', 'r') as file:\n",
    "    data = file.readline().strip()\n",
    "    elements = data.split()\n",
    "    # print(elements)\n",
    "    crop = elements[0]\n",
    "    N = int(elements[1])\n",
    "    P = int(elements[2])\n",
    "    K = int(elements[3])\n",
    "response = fert_recommend(crop, N, P, K)"
   ]
  },
  {
   "cell_type": "code",
   "execution_count": 17,
   "id": "21cc19a6-d6bb-4adf-a759-2f346b05e0af",
   "metadata": {},
   "outputs": [
    {
     "name": "stdout",
     "output_type": "stream",
     "text": [
      "The N value of your soil is low.\n",
      "        <br/> Please consider the following suggestions:\n",
      "        <br/><br/> 1. <i>Add sawdust or fine woodchips to your soil</i> – the carbon in the sawdust/woodchips love nitrogen and will help absorb and soak up and excess nitrogen.\n",
      "\n",
      "        <br/>2. <i>Plant heavy nitrogen feeding plants</i> – tomatoes, corn, broccoli, cabbage and spinach are examples of plants that thrive off nitrogen and will suck the nitrogen dry.\n",
      "\n",
      "        <br/>3. <i>Water</i> – soaking your soil with water will help leach the nitrogen deeper into your soil, effectively leaving less for your plants to use.\n",
      "\n",
      "        <br/>4. <i>Sugar</i> – In limited studies, it was shown that adding sugar to your soil can help potentially reduce the amount of nitrogen is your soil. Sugar is partially composed of carbon, an element which attracts and soaks up the nitrogen in the soil. This is similar concept to adding sawdust/woodchips which are high in carbon content.\n",
      "\n",
      "        <br/>5. Add composted manure to the soil.\n",
      "\n",
      "        <br/>6. Plant Nitrogen fixing plants like peas or beans.\n",
      "\n",
      "        <br/>7. <i>Use NPK fertilizers with high N value.\n",
      "\n",
      "        <br/>8. <i>Do nothing</i> – It may seem counter-intuitive, but if you already have plants that are producing lots of foliage, it may be best to let them continue to absorb all the nitrogen to amend the soil for your next crops.\n"
     ]
    }
   ],
   "source": [
    "print(response)S"
   ]
  }
 ],
 "metadata": {
  "kernelspec": {
   "display_name": "Python 3 (ipykernel)",
   "language": "python",
   "name": "python3"
  },
  "language_info": {
   "codemirror_mode": {
    "name": "ipython",
    "version": 3
   },
   "file_extension": ".py",
   "mimetype": "text/x-python",
   "name": "python",
   "nbconvert_exporter": "python",
   "pygments_lexer": "ipython3",
   "version": "3.11.7"
  },
  "widgets": {
   "application/vnd.jupyter.widget-state+json": {
    "state": {},
    "version_major": 2,
    "version_minor": 0
   }
  }
 },
 "nbformat": 4,
 "nbformat_minor": 5
}
